{
  "nbformat": 4,
  "nbformat_minor": 0,
  "metadata": {
    "colab": {
      "provenance": [],
      "authorship_tag": "ABX9TyO1dNjWug9JnjEGLcoeBiPH",
      "include_colab_link": true
    },
    "kernelspec": {
      "name": "python3",
      "display_name": "Python 3"
    },
    "language_info": {
      "name": "python"
    }
  },
  "cells": [
    {
      "cell_type": "markdown",
      "metadata": {
        "id": "view-in-github",
        "colab_type": "text"
      },
      "source": [
        "<a href=\"https://colab.research.google.com/github/Jahiduledu3/python_poject/blob/main/Quiz_project.ipynb\" target=\"_parent\"><img src=\"https://colab.research.google.com/assets/colab-badge.svg\" alt=\"Open In Colab\"/></a>"
      ]
    },
    {
      "cell_type": "code",
      "execution_count": null,
      "metadata": {
        "colab": {
          "base_uri": "https://localhost:8080/"
        },
        "id": "_OqCkE9ls-ZY",
        "outputId": "1b5043f4-0302-47c9-952b-e6fa65c2029b"
      },
      "outputs": [
        {
          "name": "stdout",
          "output_type": "stream",
          "text": [
            "\n",
            "1. Manage Questions\n",
            "2. Conduct Quiz\n",
            "3. View Scores\n",
            "4. Exit\n",
            "Enter your choice: 4\n"
          ]
        }
      ],
      "source": [
        "import csv\n",
        "import random\n",
        "from datetime import datetime\n",
        "\n",
        "# File paths\n",
        "QUESTIONS_FILE = \"questions.csv\"\n",
        "SCORES_FILE = \"scores.csv\"\n",
        "\n",
        "# Initialize files if not present\n",
        "def initialize_files():\n",
        "    with open(QUESTIONS_FILE, mode='a', newline='') as file:\n",
        "        writer = csv.writer(file)\n",
        "        file.seek(0)\n",
        "        #if file.read():\n",
        "            #writer.writerow([\"Question ID\", \"Question Text\", \"Option A\", \"Option B\", \"Option C\", \"Option D\", \"Correct Answer\", \"Marks\"])\n",
        "\n",
        "    with open(SCORES_FILE, mode='a', newline='') as file:\n",
        "        writer = csv.writer(file)\n",
        "        file.seek(0)\n",
        "        #if not file.read(1):\n",
        "            #writer.writerow([\"Participant Name\", \"Quiz Date\", \"Total Score\"])\n",
        "\n",
        "# Add a question\n",
        "def add_question():\n",
        "    with open(QUESTIONS_FILE, mode='a', newline='') as file:\n",
        "        writer = csv.writer(file)\n",
        "        question_id = input(\"Enter Question ID: \")\n",
        "        question_text = input(\"Enter Question Text: \")\n",
        "        options = [input(f\"Enter Option {opt}: \") for opt in ['A', 'B', 'C', 'D']]\n",
        "        correct_answer = input(\"Enter Correct Answer (A/B/C/D): \").upper()\n",
        "        marks = int(input(\"Enter Marks for this Question: \"))\n",
        "        writer.writerow([question_id, question_text] + options + [correct_answer, marks])\n",
        "\n",
        "# View and manage questions\n",
        "def manage_questions():\n",
        "    with open(QUESTIONS_FILE, mode='r') as file:\n",
        "        reader = csv.reader(file)\n",
        "        questions = list(reader)\n",
        "        for i, row in enumerate(questions[1:], start=1):\n",
        "            print(f\"{i}. {row[1]} (Correct: {row[-2]}, Marks: {row[-1]})\")\n",
        "        print(\"\\n1. Add Question\\n2. Delete Question\\n3. Back to Menu\")\n",
        "        choice = int(input(\"Enter your choice: \"))\n",
        "        if choice == 1:\n",
        "            add_question()\n",
        "        elif choice == 2:\n",
        "            delete_index = int(input(\"Enter the question number to delete: \")) - 1\n",
        "            del questions[delete_index + 1]\n",
        "            with open(QUESTIONS_FILE, mode='w', newline='') as f:\n",
        "                writer = csv.writer(f)\n",
        "                writer.writerows(questions)\n",
        "\n",
        "# Conduct the quiz\n",
        "def conduct_quiz():\n",
        "    with open(QUESTIONS_FILE, mode='r') as file:\n",
        "        reader = csv.reader(file)\n",
        "        questions = list(reader)[1:]\n",
        "\n",
        "    random.shuffle(questions)\n",
        "    total_score = 0\n",
        "    participant_name = input(\"Enter your name: \")\n",
        "    for question in questions:\n",
        "        print(\"\\n\" + question[1])\n",
        "        for i, opt in enumerate(question[2:6], start=0):\n",
        "            print(f\"{chr(65+i)}. {opt}\")\n",
        "        answer = input(\"Enter your answer (A/B/C/D): \").upper()\n",
        "        if answer == question[6]:\n",
        "            total_score += int(question[7])\n",
        "            print(\"Correct!\")\n",
        "        else:\n",
        "            print(f\"Incorrect. The correct answer was {question[6]}.\")\n",
        "\n",
        "    quiz_date = datetime.now().strftime(\"%Y-%m-%d %H:%M:%S\")\n",
        "    print(f\"\\nQuiz Completed! Your Score: {total_score}\")\n",
        "    with open(SCORES_FILE, mode='a', newline='') as file:\n",
        "        writer = csv.writer(file)\n",
        "        writer.writerow([participant_name, quiz_date, total_score])\n",
        "\n",
        "# View past scores\n",
        "def view_scores():\n",
        "    with open(SCORES_FILE, mode='r') as file:\n",
        "        reader = csv.reader(file)\n",
        "        scores = list(reader)[1:]\n",
        "        for score in scores:\n",
        "            print(f\"Name: {score[0]}, Date: {score[1]}, Score: {score[2]}\")\n",
        "\n",
        "# Menu\n",
        "def menu():\n",
        "    initialize_files()\n",
        "    while True:\n",
        "        print(\"\\n1. Manage Questions\\n2. Conduct Quiz\\n3. View Scores\\n4. Exit\")\n",
        "        choice = int(input(\"Enter your choice: \"))\n",
        "        if choice == 1:\n",
        "            manage_questions()\n",
        "        elif choice == 2:\n",
        "            conduct_quiz()\n",
        "        elif choice == 3:\n",
        "            view_scores()\n",
        "        elif choice == 4:\n",
        "            break\n",
        "        else:\n",
        "            print(\"Invalid choice! Please try again.\")\n",
        "\n",
        "# Run the program\n",
        "if __name__ == \"__main__\":\n",
        "    menu()"
      ]
    },
    {
      "cell_type": "code",
      "source": [
        "\n",
        "\n"
      ],
      "metadata": {
        "id": "OIVErXI0tKi0"
      },
      "execution_count": null,
      "outputs": []
    }
  ]
}